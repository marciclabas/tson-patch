{
 "cells": [
  {
   "cell_type": "code",
   "execution_count": 5,
   "metadata": {},
   "outputs": [],
   "source": [
    "import { Path, At, set, Key } from \"../src/index.ts\";\n",
    "\n",
    "function setter<T extends object, P extends Key[]>(\n",
    "  path: P extends Path<T, P> ? P : Path<T, P>,\n",
    "  setter: (f: (x: T) => T) => void\n",
    "): (val: At<T, P>) => void {\n",
    "  return val => setter(x => set(x, path, val))\n",
    "}"
   ]
  }
 ],
 "metadata": {
  "kernelspec": {
   "display_name": "Deno",
   "language": "typescript",
   "name": "deno"
  },
  "language_info": {
   "file_extension": ".ts",
   "mimetype": "text/x.typescript",
   "name": "typescript",
   "nb_converter": "script",
   "pygments_lexer": "typescript",
   "version": "5.3.3"
  }
 },
 "nbformat": 4,
 "nbformat_minor": 2
}
